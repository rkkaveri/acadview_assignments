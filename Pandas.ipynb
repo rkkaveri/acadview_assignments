#Q1. Create a dataframe with your name , age , mail id and phone number and add your friends’s information to the same. 

import numpy as np
import pandas as pd
d={'name':['Hornet','John','Fenny'],
   'age':[20,35,12],
   'mail id':['h@gmail.com','j@gmail.com','f@gmail.com'],
   'phone no':[8811123456,7789654892,9876548216]}
df=pd.DataFrame(d)
print('#'*50)
print("DataFrame :\n",df,'\n')

df=df.append(pd.Series(['Smith',48,np.nan,np.nan],index=['name','age','mail id','phone no']),ignore_index=True)
print("DataFrame after append:\n" )
print(df)



#Q2. Download the dataset from given link then Import the data and print the following :

import pandas as pd
df=pd.read_csv('weather.csv')

#a) First 5 rows of Dataframe 
print("#"*50)
print("First 5 rows of DataFrame: \n\n",df.head(5))
print("#"*50)

#b) First 10 rows of the Dataframe
print("First 10 rows of DataFrame: \n\n",df.head(10))
print("#"*50)

#c) Find basic statistics on the particular dataset.
print("Basic Statistics: \n\n",df.describe(include='all'))
print("#"*50)

#d)Find the last 5 rows of the dataframe
print("Last 5 rows of DataFrame: \n\n",df.tail(5))
print("#"*50)
#pd.concat([df,df1])

#e) Extract the 2nd column and find basic statistics on it.
df1 = df.iloc[:,[1]] #extracting 2nd column
print("Statistics of 2nd Column(Location): \n\n",df1.describe())
